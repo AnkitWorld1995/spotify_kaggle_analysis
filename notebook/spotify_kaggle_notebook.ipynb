{
 "cells": [
  {
   "metadata": {
    "ExecuteTime": {
     "end_time": "2025-02-16T07:39:28.132097Z",
     "start_time": "2025-02-16T07:39:23.887095Z"
    }
   },
   "cell_type": "code",
   "source": [
    "import requests\n",
    "import zipfile\n",
    "import os\n",
    "\n",
    "# Set up Kaggle API credentials\n",
    "KAGGLE_USERNAME = \"anxxxxxxxxx95\"\n",
    "KAGGLE_KEY = \"cbxxxxxxxxxxxxxxxxxxxxxba\"\n",
    "DATASET_ID = \"tonygordonjr/spotify-dataset-2023\"  # Found from the URL\n",
    "\n",
    "\n",
    "\n",
    "# Kaggle API endpoint\n",
    "DOWNLOAD_URL = f\"https://www.kaggle.com/api/v1/datasets/download/tonygordonjr/spotify-dataset-2023/spotify-albums_data_2023.csv\"\n",
    "\n",
    "# Set up authentication\n",
    "auth = (KAGGLE_USERNAME, KAGGLE_KEY)\n",
    "\n",
    "# Define local save path\n",
    "save_path = \"./data/spotify_dataset.zip\"\n",
    "\n",
    "# Download dataset\n",
    "response = requests.get(DOWNLOAD_URL, auth=auth, stream=True)\n",
    "\n",
    "if response.status_code == 200:\n",
    "    with open(save_path, \"wb\") as file:\n",
    "        for chunk in response.iter_content(chunk_size=1024):\n",
    "            file.write(chunk)\n",
    "    print(f\"Dataset downloaded successfully: {save_path}\")\n",
    "else:\n",
    "    print(f\"Failed to download dataset. Status Code: {response.status_code}\")\n",
    "\n",
    "required_files = {\"spotify-albums_data_2023.csv\", \"spotify_tracks_data_2023.csv\"}\n",
    "extract_path = \"../data\"\n",
    "\n",
    "with zipfile.ZipFile(save_path, \"r\") as zip_ref:\n",
    "    all_files = zip_ref.namelist()  # List all files in the ZIP\n",
    "    for file in all_files:\n",
    "        if file in required_files:\n",
    "            zip_ref.extract(file, extract_path)\n",
    "            print(f\"Extracted: {file}\")\n",
    "\n",
    "print(\"Extraction complete. Extracted files:\", os.listdir(extract_path))\n",
    "os.remove(save_path)\n"
   ],
   "id": "cb11945bf95f27b1",
   "outputs": [
    {
     "name": "stdout",
     "output_type": "stream",
     "text": [
      "Dataset downloaded successfully: ./data/spotify_dataset.zip\n",
      "Extracted: spotify-albums_data_2023.csv\n",
      "Extraction complete. Extracted files: ['spotify-albums_data_2023.csv', 'spotify_dataset.zip', 'spotify_tracks_data_2023.csv']\n"
     ]
    }
   ],
   "execution_count": 10
  },
  {
   "cell_type": "code",
   "id": "initial_id",
   "metadata": {
    "collapsed": true,
    "ExecuteTime": {
     "end_time": "2025-02-15T06:57:58.731390Z",
     "start_time": "2025-02-15T06:57:58.588923Z"
    }
   },
   "source": [
    "from pyspark.sql import SparkSession\n",
    "import logging, os\n",
    "\n",
    "# Configure logging\n",
    "logging.basicConfig(level=logging.INFO, format=\"%(asctime)s - %(levelname)s - %(message)s\")\n",
    "logger = logging.getLogger(__name__)\n",
    "\n",
    "# Path to the JDBC driver\n",
    "jdbc_path = os.path.abspath(\"../jars/postgresql-42.7.3.jar\")\n",
    "\n",
    "print(f'The JDBC path is {jdbc_path}')\n",
    "\n",
    "try:\n",
    "    spark = SparkSession.builder \\\n",
    "        .master(\"local[*]\") \\\n",
    "        .appName(\"Spotify Data Processing\") \\\n",
    "        .config(\"spark.jars\", jdbc_path) \\\n",
    "        .getOrCreate()\n",
    "    logger.info(\"✅ Spark session created successfully.\")\n",
    "except Exception as e:\n",
    "    logger.error(f\"❌ Error creating Spark session: {e}\")\n",
    "    raise"
   ],
   "outputs": [
    {
     "name": "stderr",
     "output_type": "stream",
     "text": [
      "2025-02-15 12:27:58,729 - INFO - ✅ Spark session created successfully.\n"
     ]
    },
    {
     "name": "stdout",
     "output_type": "stream",
     "text": [
      "The JDBC path is /Users/sivaprakash/de/spotify-kaggle-analysis/jars/postgresql-42.7.3.jar\n"
     ]
    }
   ],
   "execution_count": 11
  },
  {
   "metadata": {
    "ExecuteTime": {
     "end_time": "2025-02-15T06:58:03.975015Z",
     "start_time": "2025-02-15T06:58:02.236541Z"
    }
   },
   "cell_type": "code",
   "source": [
    "spotify_albums_df = spark \\\n",
    "    .read \\\n",
    "    .option('header', True) \\\n",
    "    .option('inferSchema', True) \\\n",
    "    .csv(\"data/spotify-albums_data_2023.csv\")\n",
    "\n",
    "spotify_tracks_df = spark \\\n",
    "    .read \\\n",
    "    .option('header', True) \\\n",
    "    .option('inferSchema', True) \\\n",
    "    .csv(\"data/spotify_tracks_data_2023.csv\")"
   ],
   "id": "1f9c0a80f2ed973a",
   "outputs": [
    {
     "name": "stderr",
     "output_type": "stream",
     "text": [
      "                                                                                \r"
     ]
    }
   ],
   "execution_count": 12
  },
  {
   "metadata": {
    "ExecuteTime": {
     "end_time": "2025-02-15T06:58:04.940056Z",
     "start_time": "2025-02-15T06:58:04.929402Z"
    }
   },
   "cell_type": "code",
   "source": [
    "spotify_albums_df.printSchema()\n",
    "spotify_tracks_df.printSchema()\n"
   ],
   "id": "7a5832f0c6db8227",
   "outputs": [
    {
     "name": "stdout",
     "output_type": "stream",
     "text": [
      "root\n",
      " |-- track_name: string (nullable = true)\n",
      " |-- track_id: string (nullable = true)\n",
      " |-- track_number: string (nullable = true)\n",
      " |-- duration_ms: string (nullable = true)\n",
      " |-- album_type: string (nullable = true)\n",
      " |-- artists: string (nullable = true)\n",
      " |-- total_tracks: string (nullable = true)\n",
      " |-- album_name: string (nullable = true)\n",
      " |-- release_date: string (nullable = true)\n",
      " |-- label: string (nullable = true)\n",
      " |-- album_popularity: string (nullable = true)\n",
      " |-- album_id: string (nullable = true)\n",
      " |-- artist_id: string (nullable = true)\n",
      " |-- artist_0: string (nullable = true)\n",
      " |-- artist_1: string (nullable = true)\n",
      " |-- artist_2: string (nullable = true)\n",
      " |-- artist_3: string (nullable = true)\n",
      " |-- artist_4: string (nullable = true)\n",
      " |-- artist_5: string (nullable = true)\n",
      " |-- artist_6: string (nullable = true)\n",
      " |-- artist_7: string (nullable = true)\n",
      " |-- artist_8: string (nullable = true)\n",
      " |-- artist_9: string (nullable = true)\n",
      " |-- artist_10: string (nullable = true)\n",
      " |-- artist_11: string (nullable = true)\n",
      " |-- duration_sec: string (nullable = true)\n",
      "\n",
      "root\n",
      " |-- id: string (nullable = true)\n",
      " |-- track_popularity: integer (nullable = true)\n",
      " |-- explicit: boolean (nullable = true)\n",
      "\n"
     ]
    }
   ],
   "execution_count": 13
  },
  {
   "metadata": {
    "ExecuteTime": {
     "end_time": "2025-02-14T06:02:02.395053Z",
     "start_time": "2025-02-14T06:02:00.135683Z"
    }
   },
   "cell_type": "code",
   "source": [
    "from pyspark.sql.functions import col, countDistinct\n",
    "\n",
    "# Filter, join, group by, and aggregate properly\n",
    "album_count_per_label = (\n",
    "    spotify_albums_df\n",
    "    .join(\n",
    "        spotify_tracks_df,\n",
    "        on=spotify_tracks_df.id == spotify_albums_df.track_id,\n",
    "        how=\"inner\"\n",
    "    )\n",
    "    .filter(\n",
    "        (col(\"explicit\") == False) & (col('track_popularity') > 50)\n",
    "    )\n",
    "    .groupBy(col(\"label\"))\n",
    "    .agg(\n",
    "        countDistinct(\"track_id\").alias(\"total_tracks\")  # Count distinct albums\n",
    "    )\n",
    "    .orderBy(col(\"total_tracks\").desc())  # Sort descending\n",
    "    .limit(20)\n",
    ")\n",
    "\n",
    "# album_count_per_label.show(truncate=False)\n",
    "\n",
    "from pyspark.sql.functions import col, count\n",
    "\n",
    "from pyspark.sql import functions as F\n",
    "\n",
    "# Find duplicate track_id values\n",
    "duplicate_tracks_df = (\n",
    "    spotify_albums_df\n",
    "    .groupBy('track_id')\n",
    "    .agg(F.count(\"track_id\").alias(\"tk_cnts\"))\n",
    "    .filter(F.col(\"tk_cnts\") > 1)  # Only keep non-duplicates\n",
    ").collect()\n",
    "\n",
    "# Get duplicate track IDs as a list from duplicate_tracks_df\n",
    "duplicate_track_ids = [row['track_id'] for row in duplicate_tracks_df]\n",
    "\n",
    "# Filter spotify_tracks_df for tracks that are in the list of duplicate track IDs\n",
    "spotify_tracks_df_filtered = (\n",
    "    spotify_albums_df\n",
    "    .filter(col(\"track_id\").isin(duplicate_track_ids))\n",
    ")\n",
    "\n",
    "spotify_tracks_df_filtered.show()\n",
    "# print(duplicate_track_ids)\n",
    "\n",
    "\n",
    "# duplicate_tracks_df.count()\n",
    "# duplicate_tracks_df.count() #438360 - With = 1 and #438524 with != 1\n",
    "# spotify_albums_df.filter(col(\"track_id\").isNotNull()).count()\n"
   ],
   "id": "39e2ceef64e7da02",
   "outputs": [
    {
     "name": "stderr",
     "output_type": "stream",
     "text": [
      "                                                                                \r"
     ]
    },
    {
     "name": "stdout",
     "output_type": "stream",
     "text": [
      "+--------------------+--------------------+--------------------+--------------------+-----------+-------+------------+--------------------+--------------------+--------------------+--------------------+--------------------+--------------------+--------------------+--------------------+--------------------+--------------------+------------------+--------+--------+--------+--------+--------+---------+---------+------------+\n",
      "|          track_name|            track_id|        track_number|         duration_ms| album_type|artists|total_tracks|          album_name|        release_date|               label|    album_popularity|            album_id|           artist_id|            artist_0|            artist_1|            artist_2|            artist_3|          artist_4|artist_5|artist_6|artist_7|artist_8|artist_9|artist_10|artist_11|duration_sec|\n",
      "+--------------------+--------------------+--------------------+--------------------+-----------+-------+------------+--------------------+--------------------+--------------------+--------------------+--------------------+--------------------+--------------------+--------------------+--------------------+--------------------+------------------+--------+--------+--------+--------+--------+---------+---------+------------+\n",
      "|\"I Don'T Live Tod...|           Hollywood|               1990\"|6i4JTcSL5czpMkgEt...|          4| 343992|       album|                NULL|                   7|\"A Night For Jimi...|           Hollywood|              1990)\"|2014-05-28 00:00:...|Funk to the Max -...|                  17|494NFMjaJsTB2bsEY...|3JVF9a4IJrL7sTSdj...|       Eddie Hazel| Krunchy|    NULL|    NULL|    NULL|    NULL|     NULL|     NULL|        NULL|\n",
      "|\"Power Of Soul - ...|           Hollywood|               1990\"|3VCfaDGewI3Mm5jA4...|          6| 546969|       album|                NULL|                   7|\"A Night For Jimi...|           Hollywood|              1990)\"|2014-05-28 00:00:...|Funk to the Max -...|                  17|494NFMjaJsTB2bsEY...|3JVF9a4IJrL7sTSdj...|       Eddie Hazel| Krunchy|    NULL|    NULL|    NULL|    NULL|     NULL|     NULL|        NULL|\n",
      "|\"Maggot Brain - L...|           Hollywood|               1990\"|2Vcw5gcxJUmX4DvlR...|          7| 504747|       album|                NULL|                   7|\"A Night For Jimi...|           Hollywood|              1990)\"|2014-05-28 00:00:...|Funk to the Max -...|                  17|494NFMjaJsTB2bsEY...|3JVF9a4IJrL7sTSdj...|       Eddie Hazel| Krunchy|    NULL|    NULL|    NULL|    NULL|     NULL|     NULL|        NULL|\n",
      "|\"John Connelly'S ...|           Hollywood|               1990\"|0YDUxTWOBuHt0QsXP...|          1| 185841|       album|                NULL|                   7|\"A Night For Jimi...|           Hollywood|              1990)\"|2014-05-28 00:00:...|Funk to the Max -...|                  17|494NFMjaJsTB2bsEY...|3JVF9a4IJrL7sTSdj...|       Eddie Hazel| Krunchy|    NULL|    NULL|    NULL|    NULL|     NULL|     NULL|        NULL|\n",
      "|\"Voodoo Child - L...|           Hollywood|               1990\"|1PhbslX3Wea90U9zT...|          5| 817997|       album|                NULL|                   7|\"A Night For Jimi...|           Hollywood|              1990)\"|2014-05-28 00:00:...|Funk to the Max -...|                  17|494NFMjaJsTB2bsEY...|3JVF9a4IJrL7sTSdj...|       Eddie Hazel| Krunchy|    NULL|    NULL|    NULL|    NULL|     NULL|     NULL|        NULL|\n",
      "|\"Manic Depression...|           Hollywood|               1990\"|6sm22uhfr0o7tFY99...|          2| 228413|       album|                NULL|                   7|\"A Night For Jimi...|           Hollywood|              1990)\"|2014-05-28 00:00:...|Funk to the Max -...|                  17|494NFMjaJsTB2bsEY...|3JVF9a4IJrL7sTSdj...|       Eddie Hazel| Krunchy|    NULL|    NULL|    NULL|    NULL|     NULL|     NULL|        NULL|\n",
      "|\"Are You Experien...|           Hollywood|               1990\"|7B45Ro4ZHNXf8TI0D...|          3| 411597|       album|                NULL|                   7|\"A Night For Jimi...|           Hollywood|              1990)\"|2014-05-28 00:00:...|Funk to the Max -...|                  17|494NFMjaJsTB2bsEY...|3JVF9a4IJrL7sTSdj...|       Eddie Hazel| Krunchy|    NULL|    NULL|    NULL|    NULL|     NULL|     NULL|        NULL|\n",
      "|\"Messiah, Hwv 56:...| A Virgin Shall C...|6LDR0imQbdoCk1x7n...|                   8|      37866|  album|        NULL|                  39|     Handel: Messiah|1958-01-01 00:00:...|      Sony Classical|                  12|5IJk7mZ9vRSiWkXJq...|1QL7yTHrdahRMpvNt...|George Frideric H...|   Leonard Bernstein|New York Philharm...|              NULL|    NULL|    NULL|    NULL|    NULL|    NULL|     NULL|     NULL|        NULL|\n",
      "|\"Messiah, Hwv 56:...| I Tell You A Mys...|2wmphlpl2tcsotQIh...|                  12|      58706|  album|        NULL|                  39|     Handel: Messiah|1958-01-01 00:00:...|      Sony Classical|                  12|5IJk7mZ9vRSiWkXJq...|1QL7yTHrdahRMpvNt...|George Frideric H...|   Leonard Bernstein|New York Philharm...|              NULL|    NULL|    NULL|    NULL|    NULL|    NULL|     NULL|     NULL|        NULL|\n",
      "|\"Rondo In B Minor...|              Op. 70|             D. 895\"|0YexZp81SXOmWQGoJ...|          5| 901000|       album|                NULL|                   6|Violin Recital: A...|1997-07-29 00:00:...|               Naxos|                   0|2TsfzDZiSc6nUkWCR...|2p0UyoPfYfI76PCSt...|      Franz Schubert|       Adele Anthony|  Jonathan Feldman|    NULL|    NULL|    NULL|    NULL|    NULL|     NULL|     NULL|        NULL|\n",
      "|\"Rondo In B Minor...|              Op. 70|             D. 895\"|0IAHdhrv47FPLdjay...|          5| 901000|       album|                NULL|                   6|Violin Recital: A...|1997-07-29 00:00:...|               Naxos|                   0|3zclCaHtOSikGhDWN...|2p0UyoPfYfI76PCSt...|      Franz Schubert|       Adele Anthony|  Jonathan Feldman|    NULL|    NULL|    NULL|    NULL|    NULL|     NULL|     NULL|        NULL|\n",
      "|I Will Always Lov...|77bNe6jYY8yHdP7or...|                   6|              176093|compilation|   NULL|           9|The Best Little W...|1982-01-01 00:00:...|Verve (Adult Cont...|                  24|52jA4EggArU3AyvC0...|0LyfQWJT6nXafLPZq...|        Dolly Parton|                NULL|                NULL|                NULL|              NULL|    NULL|    NULL|    NULL|    NULL|    NULL|     NULL|     NULL|     176.093|\n",
      "|To Know Him Is To...|0gIhlWV243Z1K93Qf...|                   3|              227013|      album|   NULL|          11|Trio (2016 Remaster)|1987-03-03 00:00:...|Rhino/Warner Records|                  53|4sQEu1QnbFvtYItC4...|32vWCbZh0xZ4o9gkz...|        Dolly Parton|      Linda Ronstadt|      Emmylou Harris|                NULL|              NULL|    NULL|    NULL|    NULL|    NULL|    NULL|     NULL|     NULL|     227.013|\n",
      "|\"Variations On \"\"...| Op. 2: Coda. All...|54D4NGOdxFLtcs27U...|                  12|     225506|  album|        NULL|                  17|Chopin: Works For...|2017-03-10 00:00:...|Deutsche Grammoph...|                  46|2u667XsLfa7oVDE0e...|7y97mc3bZRFXzT2sz...|     Frédéric Chopin|        Jan Lisiecki|NDR Elbphilharmon...|Krzysztof Urbański|    NULL|    NULL|    NULL|    NULL|    NULL|     NULL|     NULL|        NULL|\n",
      "|You’Re The Best T...|4QWSk7Ynu34r3EOHS...|                  17|              256493|      album|   NULL|          17|Songs Of Experien...|2017-12-01 00:00:...|Universal-Island ...|                  60|6S9YaGXnmRe8tWJ0e...|51Blml2LZPmy7TTiA...|                  U2|                Kygo|                NULL|                NULL|              NULL|    NULL|    NULL|    NULL|    NULL|    NULL|     NULL|     NULL|     256.493|\n",
      "|     I Would Die 4 U|6fBwVe6udYdnRqwqo...|                   7|              178986|compilation|   NULL|          18|          The Hits 2|1993-09-13 00:00:...|   Legacy Recordings|                  39|2wrmTZCJAzEFBflDv...|5a2EaR3hamoenG9rD...|              Prince|                NULL|                NULL|                NULL|              NULL|    NULL|    NULL|    NULL|    NULL|    NULL|     NULL|     NULL|     178.986|\n",
      "|         Purple Rain|54X78diSLoUDI3joC...|                   9|              520786|compilation|   NULL|          18|          The Hits 2|1993-09-13 00:00:...|   Legacy Recordings|                  39|2wrmTZCJAzEFBflDv...|5a2EaR3hamoenG9rD...|              Prince|                NULL|                NULL|                NULL|              NULL|    NULL|    NULL|    NULL|    NULL|    NULL|     NULL|     NULL|     520.786|\n",
      "|\"Bach, Js: Johann...| Ihr Heiligen Geb...|5nSt7I6FGkeE3xTVW...|                  14|     453200|  album|        NULL|                  26|Agnus Dei Volumes...|1996-01-01 00:00:...|Warner Classics I...|                  40|1iRYl7P20bQR38MYt...|6hJ1WCK5GxmaYzmWW...|Johann Sebastian ...| Edward Higginbottom|           Capricorn|              NULL|    NULL|    NULL|    NULL|    NULL|    NULL|     NULL|     NULL|        NULL|\n",
      "|\"Variations On \"\"...| Op. 2: Coda. All...|02Q8ImZv9XwN2Vi7T...|                  11|     210520|  album|        NULL|                  33|   Chopin Evocations|2017-10-06 00:00:...|Deutsche Grammoph...|                  50|3EGoexkD9hH8H2waA...|1fUhTALoWXPL6PZSk...|     Frédéric Chopin|     Daniil Trifonov|                NULL|              NULL|    NULL|    NULL|    NULL|    NULL|    NULL|     NULL|     NULL|        NULL|\n",
      "|\"Children'S Album...|              Fugue\"|0afzELXi4xqKF6gEh...|                  34|     113213|  album|        NULL|                  34|Khachaturian: 7 R...|2021-03-12 00:00:...|         Grand Piano|                  53|3umvKIjsD484pa9pC...|5WIoytpqi3VWoFSHn...|   Aram Khachaturian|   Charlene Farrugia|                NULL|              NULL|    NULL|    NULL|    NULL|    NULL|    NULL|     NULL|     NULL|        NULL|\n",
      "+--------------------+--------------------+--------------------+--------------------+-----------+-------+------------+--------------------+--------------------+--------------------+--------------------+--------------------+--------------------+--------------------+--------------------+--------------------+--------------------+------------------+--------+--------+--------+--------+--------+---------+---------+------------+\n",
      "only showing top 20 rows\n",
      "\n"
     ]
    }
   ],
   "execution_count": 72
  },
  {
   "metadata": {
    "ExecuteTime": {
     "end_time": "2025-02-15T06:58:07.652503Z",
     "start_time": "2025-02-15T06:58:07.606836Z"
    }
   },
   "cell_type": "code",
   "source": [
    "# Cleaning of Track Dataframe.\n",
    "cleaned_tracks_df = spotify_tracks_df.dropna()\n"
   ],
   "id": "4fe6e1d0f91c17b0",
   "outputs": [],
   "execution_count": 14
  },
  {
   "metadata": {
    "ExecuteTime": {
     "end_time": "2025-02-15T06:58:09.391605Z",
     "start_time": "2025-02-15T06:58:09.321687Z"
    }
   },
   "cell_type": "code",
   "source": [
    "# Cleaning of Album Dataframe.\n",
    "from pyspark.sql.functions import col, round, to_date, when\n",
    "updated_spotify_albums_df = (\n",
    "            spotify_albums_df\n",
    "            .withColumn(\"duration_min\", round(col(\"duration_ms\").cast('float') / 60000, 2))\n",
    "            .withColumn('release_date', to_date(col(\"release_date\"), \"yyyy-MM-dd HH:mm:ss 'UTC'\"))\n",
    "            .withColumn(\"radio_mix\", when(col(\"duration_min\") <= 3.00, True).otherwise(False))\n",
    "            .select(\n",
    "                'track_id',\n",
    "                'track_name',\n",
    "                'duration_min',\n",
    "                'release_date',\n",
    "                'label',\n",
    "                'radio_mix'\n",
    "            )\n",
    "        )\n",
    "\n",
    "updated_spotify_albums_df_cleaned = updated_spotify_albums_df.dropna()\n",
    "updated_spotify_albums_df_cleaned.printSchema()"
   ],
   "id": "781c9588372ce792",
   "outputs": [
    {
     "name": "stdout",
     "output_type": "stream",
     "text": [
      "root\n",
      " |-- track_id: string (nullable = true)\n",
      " |-- track_name: string (nullable = true)\n",
      " |-- duration_min: double (nullable = true)\n",
      " |-- release_date: date (nullable = true)\n",
      " |-- label: string (nullable = true)\n",
      " |-- radio_mix: boolean (nullable = false)\n",
      "\n"
     ]
    }
   ],
   "execution_count": 15
  },
  {
   "metadata": {},
   "cell_type": "markdown",
   "source": "",
   "id": "ef599a9c8c9b02a5"
  },
  {
   "metadata": {
    "ExecuteTime": {
     "end_time": "2025-02-15T06:58:12.703920Z",
     "start_time": "2025-02-15T06:58:12.668763Z"
    }
   },
   "cell_type": "code",
   "source": [
    "# Join The dataframe and create a master dataframe\n",
    "\n",
    "master_df = (\n",
    "    updated_spotify_albums_df_cleaned\n",
    "    .join(cleaned_tracks_df, updated_spotify_albums_df_cleaned.track_id == cleaned_tracks_df.id, how = 'inner')\n",
    "    .filter(\n",
    "        (col('track_popularity') > 50) & (col('explicit') == False)\n",
    "    )\n",
    "    .select(\n",
    "        'track_id',\n",
    "        'track_name',\n",
    "        'duration_min',\n",
    "        'release_date' ,\n",
    "        'label',\n",
    "        'track_popularity',\n",
    "        'radio_mix'\n",
    "    )\n",
    ")\n",
    "\n",
    "master_df.printSchema()\n",
    "# master_df.show(2)"
   ],
   "id": "6f397855ab49157d",
   "outputs": [
    {
     "name": "stdout",
     "output_type": "stream",
     "text": [
      "root\n",
      " |-- track_id: string (nullable = true)\n",
      " |-- track_name: string (nullable = true)\n",
      " |-- duration_min: double (nullable = true)\n",
      " |-- release_date: date (nullable = true)\n",
      " |-- label: string (nullable = true)\n",
      " |-- track_popularity: integer (nullable = true)\n",
      " |-- radio_mix: boolean (nullable = false)\n",
      "\n"
     ]
    }
   ],
   "execution_count": 16
  },
  {
   "metadata": {
    "ExecuteTime": {
     "end_time": "2025-02-14T04:17:21.895945Z",
     "start_time": "2025-02-14T04:17:21.833060Z"
    }
   },
   "cell_type": "code",
   "source": "master_df.createOrReplaceTempView(\"album_tracks\")",
   "id": "72673c87b60b720f",
   "outputs": [
    {
     "name": "stderr",
     "output_type": "stream",
     "text": [
      "25/02/14 09:47:21 WARN SparkStringUtils: Truncated the string representation of a plan since it was too large. This behavior can be adjusted by setting 'spark.sql.debug.maxToStringFields'.\n"
     ]
    }
   ],
   "execution_count": 11
  },
  {
   "metadata": {
    "ExecuteTime": {
     "end_time": "2025-02-14T04:20:29.810664Z",
     "start_time": "2025-02-14T04:20:27.891307Z"
    }
   },
   "cell_type": "code",
   "source": [
    "spark.sql(\"\"\"\n",
    "    select\n",
    "        *\n",
    "    from album_tracks\n",
    "    order by label\n",
    "\"\"\").show(truncate=False)"
   ],
   "id": "745baedec2f022c5",
   "outputs": [
    {
     "name": "stderr",
     "output_type": "stream",
     "text": [
      "                                                                                \r"
     ]
    },
    {
     "name": "stdout",
     "output_type": "stream",
     "text": [
      "+---------------------------------------------------------+------------+------------+\n",
      "|label                                                    |track_number|total_tracks|\n",
      "+---------------------------------------------------------+------------+------------+\n",
      "|\"\"\"2 U\"\" PS (Bieber/Guetta)\"                             |1           |1           |\n",
      "|\"Ariana Grande & Justin Bieber \"\"Stuck With U\"\"- Charity\"|1           |1           |\n",
      "|\"BLACKPINK \"\"Live in Seoul\"\" / Interscope P&D\"           |8           |15          |\n",
      "|\"BLACKPINK \"\"Live in Seoul\"\" / Interscope P&D\"           |9           |15          |\n",
      "|\"Roc Nation / \"\"Home\"\" Soundtrack\"                       |1           |1           |\n",
      "|\"Roc Nation / \"\"Home\"\" Soundtrack\"                       |1           |8           |\n",
      "|\"Roc Nation / \"\"Home\"\" Soundtrack\"                       |6           |8           |\n",
      "|(주)뮤직버디, (주)블렌딩                                 |1           |2           |\n",
      "|(주)블렌딩                                               |1           |2           |\n",
      "|(주)블렌딩                                               |1           |2           |\n",
      "|(주)블렌딩                                               |2           |2           |\n",
      "|0207 Def Jam                                             |12          |12          |\n",
      "|0207 Def Jam                                             |3           |12          |\n",
      "|0207 Def Jam                                             |5           |12          |\n",
      "|0207 Def Jam                                             |8           |12          |\n",
      "|10 Summers/Interscope Records                            |1           |15          |\n",
      "|10 Summers/Interscope Records                            |17          |18          |\n",
      "|10 Summers/Interscope Records                            |18          |18          |\n",
      "|10:22 pm/Astralwerks                                     |1           |1           |\n",
      "|10:22PM/Astralwerks                                      |1           |1           |\n",
      "+---------------------------------------------------------+------------+------------+\n",
      "only showing top 20 rows\n",
      "\n"
     ]
    }
   ],
   "execution_count": 14
  },
  {
   "metadata": {
    "ExecuteTime": {
     "end_time": "2025-02-14T05:32:05.336401Z",
     "start_time": "2025-02-14T05:32:02.782800Z"
    }
   },
   "cell_type": "code",
   "source": [
    "# The top 20 ‘labels’ against their total number of ‘tracks’.\n",
    "spark.sql(\"\"\"\n",
    "    SELECT\n",
    "        label,\n",
    "        COUNT(track_id) as total_tracks\n",
    "    FROM\n",
    "        album_tracks\n",
    "    GROUP BY\n",
    "        label\n",
    "    ORDER BY\n",
    "        total_tracks DESC\n",
    "    LIMIT 20\n",
    "\"\"\").show(5, truncate=False)"
   ],
   "id": "14eb6db678ccd320",
   "outputs": [
    {
     "name": "stderr",
     "output_type": "stream",
     "text": [
      "                                                                                \r"
     ]
    },
    {
     "name": "stdout",
     "output_type": "stream",
     "text": [
      "+-------------------+------------+\n",
      "|label              |total_tracks|\n",
      "+-------------------+------------+\n",
      "|Columbia           |429         |\n",
      "|Warner Records     |391         |\n",
      "|Taylor Swift       |321         |\n",
      "|BIGHIT MUSIC       |284         |\n",
      "|Walt Disney Records|258         |\n",
      "+-------------------+------------+\n",
      "\n"
     ]
    }
   ],
   "execution_count": 44
  },
  {
   "metadata": {
    "ExecuteTime": {
     "end_time": "2025-02-14T04:35:48.138519Z",
     "start_time": "2025-02-14T04:35:46.834805Z"
    }
   },
   "cell_type": "code",
   "source": [
    "# The top 25 popular ‘tracks’ released between 2020 and 2023.\n",
    "spark.sql(\"\"\"\n",
    "    SELECT\n",
    "        track_name\n",
    "    FROM\n",
    "        album_tracks\n",
    "    WHERE\n",
    "        EXTRACT(YEAR FROM release_date) BETWEEN 2020 AND 2023\n",
    "    ORDER BY track_popularity DESC\n",
    "    LIMIT 25;\n",
    "\"\"\").show(25, truncate=False)"
   ],
   "id": "9399c0d01f827b86",
   "outputs": [
    {
     "name": "stderr",
     "output_type": "stream",
     "text": [
      "                                                                                \r"
     ]
    },
    {
     "name": "stdout",
     "output_type": "stream",
     "text": [
      "+----------------------------------------------------------------------------+\n",
      "|track_name                                                                  |\n",
      "+----------------------------------------------------------------------------+\n",
      "|My Love Mine All Mine                                                       |\n",
      "|\"What Was I Made For? [From The Motion Picture \"\"Barbie\"\"]\"                 |\n",
      "|Is It Over Now? (Taylor'S Version) (From The Vault)                         |\n",
      "|One Of The Girls (With Jennie, Lily Rose Depp)                              |\n",
      "|\"What Was I Made For? [From The Motion Picture \"\"Barbie\"\"]\"                 |\n",
      "|As It Was                                                                   |\n",
      "|Flowers                                                                     |\n",
      "|You’Re Losing Me (From The Vault)                                           |\n",
      "|Anti-Hero                                                                   |\n",
      "|Blinding Lights                                                             |\n",
      "|August                                                                      |\n",
      "|Now That We Don'T Talk (Taylor'S Version) (From The Vault)                  |\n",
      "|I Ain'T Worried                                                             |\n",
      "|Something In The Orange                                                     |\n",
      "|Calm Down (With Selena Gomez)                                               |\n",
      "|Cardigan                                                                    |\n",
      "|\"\"\"Slut!\"\" (Taylor'S Version) (From The Vault)\"                             |\n",
      "|Nonsense                                                                    |\n",
      "|Say Yes To Heaven                                                           |\n",
      "|Can’T Catch Me Now - From The Hunger Games: The Ballad Of Songbirds & Snakes|\n",
      "|Style (Taylor'S Version)                                                    |\n",
      "|Say Don'T Go (Taylor'S Version) (From The Vault)                            |\n",
      "|Angels Like You                                                             |\n",
      "|Barulho Do Foguete - Ao Vivo                                                |\n",
      "|Baby Don'T Hurt Me                                                          |\n",
      "+----------------------------------------------------------------------------+\n",
      "\n"
     ]
    }
   ],
   "execution_count": 21
  },
  {
   "metadata": {
    "ExecuteTime": {
     "end_time": "2025-02-15T07:11:28.473439Z",
     "start_time": "2025-02-15T07:11:28.051544Z"
    }
   },
   "cell_type": "code",
   "source": [
    "spark.stop()\n",
    "# master_df.count()\n",
    "\n",
    "\n"
   ],
   "id": "8387c9d73a0439b6",
   "outputs": [],
   "execution_count": 18
  },
  {
   "metadata": {
    "ExecuteTime": {
     "end_time": "2025-02-15T06:58:55.171737Z",
     "start_time": "2025-02-15T06:58:52.871695Z"
    }
   },
   "cell_type": "code",
   "source": [
    "# PostgreSQL connection details\n",
    "table_name = \"spotify.spotify_master\"\n",
    "prop = {\n",
    "    \"user\": \"postgres\",\n",
    "    \"password\": \"postgres\",\n",
    "    \"driver\": \"org.postgresql.Driver\"\n",
    "}\n",
    "url = \"jdbc:postgresql://localhost:5432/postgres\"\n",
    "\n",
    "# Write DataFrame to PostgreSQL\n",
    "try:\n",
    "    master_df.write.jdbc(url=url, table=table_name, mode=\"overwrite\", properties=prop)\n",
    "    print(f\"✅ Data written to PostgreSQL table: {table_name}\")\n",
    "except Exception as e:\n",
    "    print(f\"❌ Failed to write data to PostgreSQL table: {table_name} with error: {e}\")"
   ],
   "id": "685acc73473f809e",
   "outputs": [
    {
     "name": "stderr",
     "output_type": "stream",
     "text": [
      "                                                                                \r"
     ]
    },
    {
     "name": "stdout",
     "output_type": "stream",
     "text": [
      "✅ Data written to PostgreSQL table: spotify.spotify_master\n"
     ]
    }
   ],
   "execution_count": 17
  }
 ],
 "metadata": {
  "kernelspec": {
   "display_name": "Python 3",
   "language": "python",
   "name": "python3"
  },
  "language_info": {
   "codemirror_mode": {
    "name": "ipython",
    "version": 2
   },
   "file_extension": ".py",
   "mimetype": "text/x-python",
   "name": "python",
   "nbconvert_exporter": "python",
   "pygments_lexer": "ipython2",
   "version": "2.7.6"
  }
 },
 "nbformat": 4,
 "nbformat_minor": 5
}
